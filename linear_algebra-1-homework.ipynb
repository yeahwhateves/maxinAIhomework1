{
 "cells": [
  {
   "cell_type": "code",
   "execution_count": null,
   "metadata": {},
   "outputs": [],
   "source": [
    "%load_ext autoreload\n",
    "%autoreload 2\n",
    "\n",
    "%matplotlib inline"
   ]
  },
  {
   "cell_type": "markdown",
   "metadata": {},
   "source": [
    "## Basic setup"
   ]
  },
  {
   "cell_type": "markdown",
   "metadata": {},
   "source": [
    "Create anaconda environment\n",
    "<br>\n",
    "```bash\n",
    "conda create -n ml python=3.7.4 jupyter\n",
    "```\n",
    "Install fastai library\n",
    "<br>\n",
    "```bash\n",
    "conda install -c pytorch -c fastai fastai\n",
    "```"
   ]
  },
  {
   "cell_type": "markdown",
   "metadata": {},
   "source": [
    "# Set theory basics"
   ]
  },
  {
   "cell_type": "markdown",
   "metadata": {},
   "source": [
    "#### Prove that:\n",
    "<br>\n",
    "$A \\subseteq A$"
   ]
  },
  {
   "cell_type": "markdown",
   "metadata": {},
   "source": [
    "Proof by contradiciton <br>\n",
    "Let's assume that $A \\not\\subseteq A$\n",
    "<br> This means that $\\exists x$ : $ x \\in A$ and $x \\not\\in A$\n",
    "<br> Which is impossible\n",
    "⇒ $A \\subseteq A$"
   ]
  },
  {
   "cell_type": "markdown",
   "metadata": {},
   "source": [
    "#### Prove that:\n",
    "<br>\n",
    "If $A \\subseteq B$ and $B \\subseteq A$ $\\to$ $A = B$"
   ]
  },
  {
   "cell_type": "markdown",
   "metadata": {},
   "source": [
    "Let's assume that $A \\neq B$ <br>\n",
    "This means that $∃ x: x \\in A $ and $ x \\not\\in B$ <br>\n",
    "This contradicts with the condition that $A \\subseteq B$ <br>\n",
    "So our assumption is wrong and $A = B$\n"
   ]
  },
  {
   "cell_type": "markdown",
   "metadata": {},
   "source": [
    "#### Prove that:\n",
    "<br>\n",
    "if $B \\subset A$ then $A \\cap B = B$"
   ]
  },
  {
   "cell_type": "markdown",
   "metadata": {},
   "source": [
    "Let's assume the oposite: ($A \\cap B$) != B\n",
    "\n",
    "Then $∃ x: x \\in B$  and  $ x \\not\\in A$ \n",
    "\n",
    "\n",
    "This contradicts with the condition that $B \\subset A$"
   ]
  },
  {
   "cell_type": "markdown",
   "metadata": {},
   "source": [
    "#### Prove that:\n",
    "<br>\n",
    "$A \\cap B = B \\cap A$"
   ]
  },
  {
   "cell_type": "markdown",
   "metadata": {},
   "source": [
    "$A \\cap B = ∀x : x \\in (A, B) $ \n",
    "<br>\n",
    "=> $ ∀x \\in A $ and $∀x \\in B$\n",
    "<br> => $ ∀x \\in B \\cap A $ "
   ]
  },
  {
   "cell_type": "markdown",
   "metadata": {},
   "source": [
    "#### Prove that:\n",
    "<br>\n",
    "if $B \\subset A$ then $A \\cup B = A$"
   ]
  },
  {
   "cell_type": "markdown",
   "metadata": {},
   "source": [
    "$B \\subset A$ means that every element of $B$ is in $A$ <br>\n",
    "Let's assume that $A \\cup B  = C$ where $C\\not = A$ \n",
    "<br>\n",
    "We have two options: <br>\n",
    "1. C is smaller than any of A and B => c contains less elements than union of A and B (contradiction)<br>\n",
    "2. C is greater than A => there $\\exists  x \\in B $ s.t $x \\not \\in A$. it is imposiible because  is the subset of A"
   ]
  },
  {
   "cell_type": "markdown",
   "metadata": {},
   "source": [
    "#### Prove that:\n",
    "<br>\n",
    "$A \\cup B = B \\cup A$"
   ]
  },
  {
   "cell_type": "markdown",
   "metadata": {},
   "source": [
    "From $A \\cup B$ we get that\n",
    "$ x \\in A  \\lor x\\in B$  <br> from $B \\cap A$ we get that\n",
    "$ x \\in B  \\lor x\\in A$ <br>\n",
    "Both are the same"
   ]
  },
  {
   "cell_type": "markdown",
   "metadata": {},
   "source": [
    "#### Prove that:\n",
    "- for every injection $m:A \\to B$ and pair of functions $f, g :C \\to A$: if $m \\circ f = m \\circ g$ then $f = g$ and vice-versa\n",
    "- for every surjection $e:A \\to B$ and every pair of functions $f, g :B \\to C$: if $f \\circ e = g \\circ e$ then $f = g$ and vice-versa"
   ]
  },
  {
   "cell_type": "markdown",
   "metadata": {},
   "source": [
    "\n",
    "1. Let's take an element $c \\in C$ and assume that $f(c)=a_1$ and $g(c)=a_2$<br>\n",
    "=> $m \\circ f(c)= m(f(c))= m(a_1)$ and $m \\circ g(c)= m(g(c))=m(a_2)$  and since m is a injection, if $m(a_1)= m(a_2)$ $\\to$ $a_1 = a_2 $ and then f(c)=g(c)\n",
    "\n",
    "- Let's take an element $a_1, a_2 \\in A$ s.t $e(a_1) = b$ and $e(a_2) = b$\n",
    "<br>\n",
    "$f \\circ e(a_1) = g \\circ e(a_2)$\n",
    "<br>\n",
    "$f(e(a_1)) = g(e(a_2))$\n",
    "<br>\n",
    "$f(b) = g(b)$ thus f = g\n",
    "\n"
   ]
  },
  {
   "cell_type": "markdown",
   "metadata": {},
   "source": [
    "#### Prove that \n",
    "- composition of injections is injection itself\n",
    "- composition of surjections is surjection itself\n",
    "- composition of bijections is bijection itself\n",
    "<br>\n",
    "or give a counterexamples"
   ]
  },
  {
   "cell_type": "markdown",
   "metadata": {},
   "source": [
    "1. Lets take injections $f: A \\to B$ and $g: B \\to C$ <br>\n",
    "Let $a_1, a_2 \\in A$ and $a_1 \\not = a_2 $ then by definition $f(a_1) \\not = f(a_2)$<br>\n",
    "Let $f(a_1)= b_1$ and $f(a_2) = b_2$ it means that $b_1 \\not = b_2$ \n",
    "then $g\\circ f(a_1) \\not = g \\circ f(a_2)$(is injection) because $g(b_1) \\not = g(b_2)$\n",
    "<br>\n",
    "2. Suppose$f: A \\to B$ and\t$g: B \\to C$ are surjective.\n",
    "in order to prove that $g\\circ f:A \\to C$\tis\tsurjective,\twe need\tto prove that $\\forall x \\in C$\t$\\exists a \\in A$ s.t\t\n",
    "$g\\circ f(a)=c$.\n",
    "Let\tc be any element of\tC.\t\t\n",
    "Since $g: B \\to C$ is surjective,\t$\\exists b \\in B$ s.t $g(b) = c$<br>\n",
    "Since $f: A \\to B$\tis\tsurjective,\t$\\exists a \\in A$ s.t f(a)=b.\n",
    "<br>\n",
    "3. Bijection means that for every element from  domain there is one element in range and for every element in range there is one element in domain, thus if we take compositions of bijections it means that we map every element of domain the same sized range\n",
    "<br>"
   ]
  },
  {
   "cell_type": "markdown",
   "metadata": {},
   "source": [
    "#### Prove that for each set $A$:\n",
    "- $A \\cong A$\n",
    "- if $B \\cong A$ then $B \\cong A$ for every pair of sets $A$ and $B$\n",
    "- if $A \\cong B$ and $B \\cong C$ then $A \\cong C$ for every triplet $A$, $B$ and $C$"
   ]
  },
  {
   "cell_type": "markdown",
   "metadata": {},
   "source": [
    "1. If we use mapping just like in previous problem, for every element from A there is equal element in A. It's a bijection.\n",
    "2. If $B \\cong A$ then $B \\cong A$ for every pair of sets $A$ and $B$\n",
    "<br>\n",
    "If for every element of B there is an corresponding element in A then it means that for every element of A there is A corresponding element in B (bijection)\n",
    "3. If $A \\cong B$ and $B \\cong C$ then $A \\cong C$ for every triplet $A$, $B$ and $C$\n",
    "<br>\n",
    "If for every element in A there is a corresponding element in B and for every element in B there is a corresponding element in C it means that for every element of A there is an element in C (because of bijection)"
   ]
  },
  {
   "cell_type": "markdown",
   "metadata": {},
   "source": [
    "#### Prove that:\n",
    "<br>\n",
    "there exists a bijection between set of natural and even numbers"
   ]
  },
  {
   "cell_type": "markdown",
   "metadata": {},
   "source": [
    "We can map each element in even numbers set to itself multiplied by two"
   ]
  },
  {
   "cell_type": "markdown",
   "metadata": {},
   "source": [
    "#### Prove that:\n",
    "<br>\n",
    "if we have a bijection between two finite sets than they have an equal number of elements"
   ]
  },
  {
   "cell_type": "markdown",
   "metadata": {},
   "source": [
    "From the definiton of bijection we knoew that for each element in domain there is an element in codomain and for every element in codomain there is an element in domain, then it means that if between two sets there is a bijection those sets have equal number of elements"
   ]
  },
  {
   "cell_type": "markdown",
   "metadata": {},
   "source": [
    "#### Prove that:\n",
    "<br>\n",
    "$A \\times B \\cong B \\times A$"
   ]
  },
  {
   "cell_type": "markdown",
   "metadata": {},
   "source": [
    "Fo\n",
    "r every pair $(a_i, b_j)$ from $A \\times B $ we have a corresponding pair $(b_j, a_i)$ in $B \\times A$ => we have a bijection"
   ]
  },
  {
   "cell_type": "markdown",
   "metadata": {},
   "source": [
    "$\\cap_{i\\in I}A_i$ and $\\cup_{i\\in I}A_i$"
   ]
  },
  {
   "cell_type": "code",
   "execution_count": null,
   "metadata": {},
   "outputs": [],
   "source": [
    "\n",
    "# Implement in python"
   ]
  },
  {
   "cell_type": "markdown",
   "metadata": {},
   "source": [
    "We can also define cartesian product of any \"number\" of sets $\\prod_{i \\in I}{A_i}$"
   ]
  },
  {
   "cell_type": "code",
   "execution_count": null,
   "metadata": {},
   "outputs": [],
   "source": [
    "# Inplement in python"
   ]
  },
  {
   "cell_type": "markdown",
   "metadata": {},
   "source": [
    "#### Prove that:\n",
    "<br>\n",
    "$$A \\cap (B \\cup C)=(A \\cap B) \\cup (A\\cap C)$$\n",
    "$$A \\cup (B \\cap C)=(A \\cup B) \\cap (A\\cup C)$$"
   ]
  },
  {
   "cell_type": "markdown",
   "metadata": {},
   "source": [
    "- $x \\in (A \\cap (B \\cup C)) =x \\in A \\land x \\in (B \\cup C) = x \\in A \\land (x \\in B \\lor x\\in C) = (x \\in A \\land x \\in B )\\lor(x \\in A \\land x \\in C) = x \\in (A \\cap B)\\lor x \\in(a\\cap C) = x \\in ((A \\cap B) \\cup (A\\cap C))$ \n",
    "- $x \\in(A \\cup (B \\cap C))= x\\in A \\lor x\\in(B \\cap C)= x\\in A \\lor (x\\in B \\land x\\in C ) = (x\\in A \\lor x\\in B) \\land (x\\in A \\lor x\\in C)=x \\in((A \\cup B) \\cap (A\\cup C))$"
   ]
  },
  {
   "cell_type": "markdown",
   "metadata": {},
   "source": [
    "# Linear Algebra"
   ]
  },
  {
   "cell_type": "markdown",
   "metadata": {},
   "source": [
    "#### Prove that:\n",
    "<br>\n",
    "$(AB)^{T} = B^{T}A^{T}$ for each pair of matrices $A, B \\in \\mathbb{R}^{n \\times m}$"
   ]
  },
  {
   "cell_type": "markdown",
   "metadata": {},
   "source": [
    "$(AB)_{ij} = \\sum_{k=1}^n a_{ik} b_{kj}$\n",
    "<br>\n",
    "$[(AB)_{ij}]^T = \\sum_{k=1}^n a_{jk}b_{ki}$\n",
    "<br>\n",
    "$(BA)_{ij} = \\sum_{k=1}^n b_{ik}a_{ki}$\n",
    "<br>\n",
    "$B^{T}A^{T} = (B_{ik})^{T}(A_{kj})^{T} = \\sum_{k=1}^n b_{ki}a_{jk} = \\sum_{k=1}^n a_{jk}b_{ki}$"
   ]
  },
  {
   "cell_type": "markdown",
   "metadata": {},
   "source": [
    "## Functions on tensors"
   ]
  },
  {
   "cell_type": "markdown",
   "metadata": {},
   "source": [
    "#### Write combination for $XOR$ calculation"
   ]
  },
  {
   "cell_type": "code",
   "execution_count": null,
   "metadata": {},
   "outputs": [],
   "source": []
  }
 ],
 "metadata": {
  "kernelspec": {
   "display_name": "Python 3",
   "language": "python",
   "name": "python3"
  },
  "language_info": {
   "codemirror_mode": {
    "name": "ipython",
    "version": 3
   },
   "file_extension": ".py",
   "mimetype": "text/x-python",
   "name": "python",
   "nbconvert_exporter": "python",
   "pygments_lexer": "ipython3",
   "version": "3.7.3"
  }
 },
 "nbformat": 4,
 "nbformat_minor": 4
}
