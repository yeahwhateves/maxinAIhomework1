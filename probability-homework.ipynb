{
 "cells": [
  {
   "cell_type": "code",
   "execution_count": null,
   "metadata": {},
   "outputs": [],
   "source": [
    "%load_ext autoreload\n",
    "%autoreload 2\n",
    "\n",
    "%matplotlib inline"
   ]
  },
  {
   "cell_type": "markdown",
   "metadata": {},
   "source": [
    "## Basic setup"
   ]
  },
  {
   "cell_type": "markdown",
   "metadata": {},
   "source": [
    "Create anaconda environment\n",
    "<br>\n",
    "```bash\n",
    "conda create -n ml python=3.7.4 jupyter\n",
    "```\n",
    "Install fastai library\n",
    "<br>\n",
    "```bash\n",
    "conda install -c pytorch -c fastai fastai\n",
    "```"
   ]
  },
  {
   "cell_type": "markdown",
   "metadata": {},
   "source": [
    "# Sigma-algebras"
   ]
  },
  {
   "cell_type": "markdown",
   "metadata": {},
   "source": [
    "#### Prove that:\n",
    "Composition of mesurable functions is a mesurable function"
   ]
  },
  {
   "cell_type": "markdown",
   "metadata": {},
   "source": [
    "Let's use measurable function definition:\n",
    "<br>\n",
    "The function $f:(X, \\mathcal{F}_X) \\to (Y, \\mathcal{F}_Y)$ between two mesurable spaces is called mesurable function if for every $F \\in \\mathcal{F}_Y$ the set $f^{-1}(F) \\in \\mathcal{F}_X$\n",
    "<br>\n",
    "then let's have two measurable functions $f:(X, \\mathcal{F}_X) \\to (Y, \\mathcal{F}_Y)$ ang $g:(Y, \\mathcal{F}_Y) \\to (Z,  \\mathcal{F}_Z)$;then  $g \\circ f: (X, \\mathcal{F}_X) \\to (Z,  \\mathcal{F}_Z)$\n",
    "<br>\n",
    "take some $A$ from $\\mathcal{F}_Z$ the measurability of $g$ implies that $g^{-1}(A) \\in \\mathcal{F}_Y$ and measurability of $f$ implies $f^{-1}(g^{-1}(A)) \\in \\mathcal{F}_X$ "
   ]
  },
  {
   "cell_type": "markdown",
   "metadata": {},
   "source": [
    "## Measure"
   ]
  },
  {
   "cell_type": "markdown",
   "metadata": {},
   "source": [
    "#### Prove the following mesure properties:\n",
    "- if $A \\subset B$ then $\\mu(A) \\le \\mu(B)$\n",
    "<br>\n",
    "Proof: $(B - A) \\cup (A \\cap B) = (B - A) \\cup A = B$ and $(B - A) \\cap (A \\cap B) = \\emptyset$ so $\\mu((B - A) \\cup (A \\cap B)) = \\mu(B - A) + \\mu(A \\cap B) = \\mu(B - A) + \\mu(A) = \\mu(B)$ so $\\mu(A) \\le \\mu(B)$"
   ]
  },
  {
   "cell_type": "markdown",
   "metadata": {},
   "source": [
    "$(B - A) \\cup (A \\cap B) = (B - A) \\cup A = B$ and $(B - A) \\cap (A \\cap B) = \\emptyset$ so $\\mu((B - A) \\cup (A \\cap B)) = \\mu(B - A) + \\mu(A \\cap B) = \\mu(B - A) + \\mu(A) = \\mu(B)$ so $\\mu(A) \\le \\mu(B)$"
   ]
  },
  {
   "cell_type": "markdown",
   "metadata": {},
   "source": [
    "## Probability"
   ]
  },
  {
   "cell_type": "markdown",
   "metadata": {},
   "source": [
    "#### Prove that:\n",
    "For probability mesure $P$ and events $A, B, C \\subset \\Omega$\n",
    "- $P(A \\cup B) = P(A) + P(B) - P(A \\cap B)$\n",
    "<br>"
   ]
  },
  {
   "cell_type": "markdown",
   "metadata": {},
   "source": [
    "$C = A \\cap B$  then $P(A \\cup B) = P(A-C) + P(B-C) + P(C)$\n",
    "and since $C$ is subset of $A$ and also $C$ is subset of $B$ $P(A-C) = P(A)-P(C) and P(B-C) = P(B) -P(C)$\n",
    "<br>\n",
    "$P(A \\cup B) =  P(A)-P(C) + P(B) -P(C) + P(C) = P(A)+P(B)-P(C)=  P(A)+P(B)-A \\cap B$"
   ]
  },
  {
   "cell_type": "markdown",
   "metadata": {},
   "source": [
    "## Random variable"
   ]
  },
  {
   "cell_type": "markdown",
   "metadata": {},
   "source": [
    "#### Prove that:\n",
    "$$\n",
    "\\sigma^2 = \\operatorname{E}[X^2] - (\\operatorname{E}[X])^2\n",
    "$$\n",
    "Assuming that expectation exists\n",
    "<br>\n",
    "Denoted by $\\sigma^2$\n",
    "<br>"
   ]
  },
  {
   "cell_type": "markdown",
   "metadata": {},
   "source": [
    "$\n",
    "\\sigma^2 =   \\operatorname{E}[(X - \\operatorname{E}[X])^2] =\\operatorname{E}[X^2 -2X\\operatorname{E}[X] + (\\operatorname{E}[X])^2]= \\operatorname{E}[X^2]- 2\\operatorname{E}[X\\operatorname{E}[X]] + \\operatorname{E}([\\operatorname{E}[X])^2] = \\operatorname{E}[X^2] -2(\\operatorname{E}[X])^2 + (\\operatorname{E}[X])^2 =\\operatorname{E}[X^2] - (\\operatorname{E}[X])^2 \n",
    "$\n",
    "<br>"
   ]
  },
  {
   "cell_type": "code",
   "execution_count": null,
   "metadata": {},
   "outputs": [],
   "source": []
  }
 ],
 "metadata": {
  "kernelspec": {
   "display_name": "Python 3",
   "language": "python",
   "name": "python3"
  },
  "language_info": {
   "codemirror_mode": {
    "name": "ipython",
    "version": 3
   },
   "file_extension": ".py",
   "mimetype": "text/x-python",
   "name": "python",
   "nbconvert_exporter": "python",
   "pygments_lexer": "ipython3",
   "version": "3.7.3"
  }
 },
 "nbformat": 4,
 "nbformat_minor": 4
}
